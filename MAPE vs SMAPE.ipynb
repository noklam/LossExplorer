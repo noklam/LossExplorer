{
 "cells": [
  {
   "cell_type": "code",
   "execution_count": 1,
   "metadata": {},
   "outputs": [],
   "source": [
    "import numpy as np"
   ]
  },
  {
   "cell_type": "code",
   "execution_count": 7,
   "metadata": {},
   "outputs": [],
   "source": [
    "def mape(y_true, y_pred): \n",
    "    # y_true, y_pred = check_array(y_true, y_pred)\n",
    "    return np.mean(np.abs((y_true - y_pred) / y_true)) "
   ]
  },
  {
   "cell_type": "code",
   "execution_count": 22,
   "metadata": {},
   "outputs": [],
   "source": [
    "def smape(A, F):\n",
    "    return np.sum(2 * np.abs(F - A) / (np.abs(A) + np.abs(F))) / len(A)"
   ]
  },
  {
   "cell_type": "code",
   "execution_count": 36,
   "metadata": {},
   "outputs": [
    {
     "data": {
      "text/plain": [
       "array([94, 69, 35, 80, 17, 73, 18, 26, 50, 26, 32, 67, 22, 18, 66, 19, 53,\n",
       "       21, 59, 37, 21, 59, 42, 92, 74, 97, 34, 34, 12, 57, 75, 76, 80, 62,\n",
       "       75, 63, 63, 47, 19, 49, 13, 54, 28, 16, 25,  4, 61, 26, 68, 49, 73,\n",
       "       66, 54, 17,  8,  4, 67, 88, 13, 92, 22, 79, 38, 69, 86, 41, 53, 64,\n",
       "       37, 53, 13, 49, 60, 75, 40,  3, 66, 54, 12, 46, 69, 22, 87, 78, 18,\n",
       "       17, 18, 52, 24, 29, 70,  9, 51, 83, 17,  8, 78, 42, 81, 20])"
      ]
     },
     "execution_count": 36,
     "metadata": {},
     "output_type": "execute_result"
    }
   ],
   "source": [
    "mean = 50\n",
    "std = 24\n",
    "\n",
    "fake_y = np.random.randint(mean-2*std, mean+2*std, size=100)\n",
    "\n",
    "fake_y"
   ]
  },
  {
   "cell_type": "code",
   "execution_count": 40,
   "metadata": {},
   "outputs": [
    {
     "name": "stdout",
     "output_type": "stream",
     "text": [
      "Random Guess 30 MAPE: 0.7920107589565774\n",
      "Random Guess 31 MAPE: 0.8084111175884631\n",
      "Random Guess 32 MAPE: 0.824811476220349\n",
      "Random Guess 33 MAPE: 0.8418368348522351\n",
      "Random Guess 34 MAPE: 0.8588621934841211\n",
      "Random Guess 35 MAPE: 0.8770640227042421\n",
      "Random Guess 36 MAPE: 0.8958372804957917\n",
      "Random Guess 37 MAPE: 0.9146105382873415\n",
      "Random Guess 38 MAPE: 0.9344648771599726\n",
      "Random Guess 39 MAPE: 0.9548455318220771\n",
      "Random Guess 40 MAPE: 0.9752261864841816\n",
      "Random Guess 41 MAPE: 0.996106841146286\n",
      "Random Guess 42 MAPE: 1.0174753006864394\n",
      "Random Guess 43 MAPE: 1.0397961411789738\n",
      "Random Guess 44 MAPE: 1.062116981671508\n",
      "Random Guess 45 MAPE: 1.084437822164042\n",
      "Random Guess 46 MAPE: 1.1067586626565766\n",
      "Random Guess 47 MAPE: 1.1295142857578062\n",
      "Random Guess 48 MAPE: 1.1526954407739298\n",
      "Random Guess 49 MAPE: 1.1758765957900537\n",
      "Random Guess 50 MAPE: 1.2002822406020954\n",
      "Random Guess 51 MAPE: 1.2250878854141372\n",
      "Random Guess 52 MAPE: 1.2502856870889243\n",
      "Random Guess 53 MAPE: 1.2758681041483269\n",
      "Random Guess 54 MAPE: 1.3025825966794273\n",
      "Random Guess 55 MAPE: 1.3304082003216389\n",
      "Random Guess 56 MAPE: 1.3582338039638504\n",
      "Random Guess 57 MAPE: 1.3860594076060622\n",
      "Random Guess 58 MAPE: 1.4142358884412558\n",
      "Random Guess 59 MAPE: 1.44241236927645\n"
     ]
    }
   ],
   "source": [
    "guess_y = np.repeat(mean, len(fake_y))\n",
    "for guess in range(30,60):\n",
    "    guess_y = np.repeat(guess, len(fake_y))\n",
    "    print('Random Guess', guess, 'MAPE:', mape(fake_y, guess))\n",
    "    "
   ]
  },
  {
   "cell_type": "code",
   "execution_count": 41,
   "metadata": {},
   "outputs": [
    {
     "ename": "TypeError",
     "evalue": "'int' object is not callable",
     "output_type": "error",
     "traceback": [
      "\u001b[1;31m---------------------------------------------------------------------------\u001b[0m",
      "\u001b[1;31mTypeError\u001b[0m                                 Traceback (most recent call last)",
      "\u001b[1;32m<ipython-input-41-f1d5df0e6e5c>\u001b[0m in \u001b[0;36m<module>\u001b[1;34m\u001b[0m\n\u001b[1;32m----> 1\u001b[1;33m \u001b[0mmean\u001b[0m\u001b[1;33m(\u001b[0m\u001b[0mfake_y\u001b[0m\u001b[1;33m)\u001b[0m\u001b[1;33m\u001b[0m\u001b[1;33m\u001b[0m\u001b[0m\n\u001b[0m",
      "\u001b[1;31mTypeError\u001b[0m: 'int' object is not callable"
     ]
    }
   ],
   "source": [
    "mean(fake_y)"
   ]
  },
  {
   "cell_type": "code",
   "execution_count": 42,
   "metadata": {},
   "outputs": [
    {
     "name": "stdout",
     "output_type": "stream",
     "text": [
      "Random Guess 30 SMAPE: 0.6365552136660171\n",
      "Random Guess 31 SMAPE: 0.6277293791891675\n",
      "Random Guess 32 SMAPE: 0.6189203665014135\n",
      "Random Guess 33 SMAPE: 0.6107534145946069\n",
      "Random Guess 34 SMAPE: 0.6026030806508471\n",
      "Random Guess 35 SMAPE: 0.5956370980780712\n",
      "Random Guess 36 SMAPE: 0.5892335856618408\n",
      "Random Guess 37 SMAPE: 0.5828212895999763\n",
      "Random Guess 38 SMAPE: 0.577474413174422\n",
      "Random Guess 39 SMAPE: 0.5726244160752764\n",
      "Random Guess 40 SMAPE: 0.5677455741925084\n",
      "Random Guess 41 SMAPE: 0.5633385847898993\n",
      "Random Guess 42 SMAPE: 0.5593857083809634\n",
      "Random Guess 43 SMAPE: 0.556340758978505\n",
      "Random Guess 44 SMAPE: 0.553246554418563\n",
      "Random Guess 45 SMAPE: 0.5501092034598836\n",
      "Random Guess 46 SMAPE: 0.5469343012121655\n",
      "Random Guess 47 SMAPE: 0.5441570823729426\n",
      "Random Guess 48 SMAPE: 0.5417640412107825\n",
      "Random Guess 49 SMAPE: 0.5393299528690002\n",
      "Random Guess 50 SMAPE: 0.538071441368931\n",
      "Random Guess 51 SMAPE: 0.5371523371561525\n",
      "Random Guess 52 SMAPE: 0.536561739472885\n",
      "Random Guess 53 SMAPE: 0.5362892419133233\n",
      "Random Guess 54 SMAPE: 0.5370725662890712\n",
      "Random Guess 55 SMAPE: 0.5388746438772128\n",
      "Random Guess 56 SMAPE: 0.5405791133287966\n",
      "Random Guess 57 SMAPE: 0.5421908112604834\n",
      "Random Guess 58 SMAPE: 0.5440621232835252\n",
      "Random Guess 59 SMAPE: 0.5458435274011848\n"
     ]
    }
   ],
   "source": [
    "for guess in range(30,60):\n",
    "    guess_y = np.repeat(guess, len(fake_y))\n",
    "    print('Random Guess', guess, 'SMAPE:', smape(fake_y, guess))\n",
    "    "
   ]
  },
  {
   "cell_type": "markdown",
   "metadata": {},
   "source": [
    "# Summary\n",
    "* MAPE is a biased loss - it favors penalize negative error (i.e. pred>actual)"
   ]
  },
  {
   "cell_type": "code",
   "execution_count": null,
   "metadata": {},
   "outputs": [],
   "source": []
  }
 ],
 "metadata": {
  "kernelspec": {
   "display_name": "Python 3.7.6 64-bit ('fastai2': conda)",
   "language": "python",
   "name": "python37664bitfastai2conda77445206f38c44109f2eb6dc597e8bbf"
  },
  "language_info": {
   "codemirror_mode": {
    "name": "ipython",
    "version": 3
   },
   "file_extension": ".py",
   "mimetype": "text/x-python",
   "name": "python",
   "nbconvert_exporter": "python",
   "pygments_lexer": "ipython3",
   "version": "3.7.6"
  },
  "toc": {
   "base_numbering": 1,
   "nav_menu": {},
   "number_sections": true,
   "sideBar": true,
   "skip_h1_title": false,
   "title_cell": "Table of Contents",
   "title_sidebar": "Contents",
   "toc_cell": false,
   "toc_position": {},
   "toc_section_display": true,
   "toc_window_display": false
  },
  "varInspector": {
   "cols": {
    "lenName": 16,
    "lenType": 16,
    "lenVar": 40
   },
   "kernels_config": {
    "python": {
     "delete_cmd_postfix": "",
     "delete_cmd_prefix": "del ",
     "library": "var_list.py",
     "varRefreshCmd": "print(var_dic_list())"
    },
    "r": {
     "delete_cmd_postfix": ") ",
     "delete_cmd_prefix": "rm(",
     "library": "var_list.r",
     "varRefreshCmd": "cat(var_dic_list()) "
    }
   },
   "types_to_exclude": [
    "module",
    "function",
    "builtin_function_or_method",
    "instance",
    "_Feature"
   ],
   "window_display": false
  }
 },
 "nbformat": 4,
 "nbformat_minor": 2
}
